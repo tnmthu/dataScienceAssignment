{
 "cells": [
  {
   "cell_type": "markdown",
   "metadata": {
    "colab_type": "text",
    "id": "x7fdTGs4SnyS"
   },
   "source": [
    "![](https://i.imgur.com/0AUxkXt.png)"
   ]
  },
  {
   "cell_type": "markdown",
   "metadata": {
    "colab_type": "text",
    "id": "_uqy69P0Pm0L"
   },
   "source": [
    "# Assignment 3 - From data to insights\n",
    "\n",
    "Before you explore the data, write down a short list of what you expect to see in the data: the distribution of key variables, the relationships between important pairs of them, and so on. Such a list is essentially a prediction based on your current understanding of the business.\n",
    "\n",
    "Now analyze the data. Make plots, do summaries, whatever is needed to see if it matches your expectations.\n",
    "\n",
    "Is there anything that doesn’t match? Anything that makes you go “That’s odd” or “That doesn’t make any sense.”?\n",
    "\n",
    "Zoom in and try to understand what in your business is making that weird thing show up in the data like that. This is the critical step.\n",
    "\n",
    "You may have just found an insight into the business and increased your understanding\n",
    "\n",
    "\n",
    "## The data analysis checklist\n",
    "\n",
    "This checklist can be used as a guide during the process of a data analysis, or as a way to evaluate the quality of a reported data analysis.\n",
    "\n",
    "### Answering the first questions\n",
    "\n",
    "1. Did you define the metric for success before beginning?\n",
    "2. Did you understand the context for the question and business application?\n",
    "3. Did you consider whether the question could be answered with the available data?\n",
    "\n",
    "### Cleaning the data\n",
    "\n",
    "1. Did you identify the missing data?\n",
    "2. Is each variable one column?\n",
    "3. Do different data types appear in each table?\n",
    "4. Did you try to identify any errors or miscoding of variables?\n",
    "5. Did you check for outliers?\n",
    "\n",
    "### Exploratory analysis\n",
    "\n",
    "1. Did you make univariate plots (histogram, distplot, boxplot)?\n",
    "2. Did you consider correlations between variables (scatterplot, jointplot, kde plot, correlation matrix)?\n",
    "3. Did you check the units of all data points to make sure they are in the right range?\n",
    "\n",
    "### Presentations\n",
    "\n",
    "1. Did you lead with a brief, understandable to everyone of your problem?\n",
    "2. Did you explain the data, describe the question of interest?\n",
    "3. Did you make sure all legends and axes were legible from the back of the room?"
   ]
  },
  {
   "cell_type": "markdown",
   "metadata": {
    "colab_type": "text",
    "id": "ZBc0glanPm0M"
   },
   "source": [
    "## Dataset - Online Retailes Purchase\n",
    "\n",
    "Typically e-commerce datasets are proprietary and consequently hard to find among publicly available data. However, [The UCI Machine Learning Repository](http://archive.ics.uci.edu/ml/index.php) has made this dataset containing actual transactions from 2010 and 2011. The dataset is maintained on their site, where it can be found by the title \"Online Retail\".\n",
    "\n",
    "\n",
    "### Step 1 - Checking the data\n",
    "\n",
    "**Import tools set**"
   ]
  },
  {
   "cell_type": "markdown",
   "metadata": {
    "colab_type": "text",
    "id": "QKnfDWppC9_D"
   },
   "source": [
    "### Some of my ideas:\n",
    "\n",
    "1. How many countries, unique countries are there? And how do the price change in different countries?\n",
    "2. People from different countries will buy with different quantities?\n",
    "3. Longer description items will have more price? Does the length of description affect the price? Does the length of description will make consumers buy more quantities?\n",
    "4. Does the unit price affect the quantities?\n"
   ]
  },
  {
   "cell_type": "code",
   "execution_count": 0,
   "metadata": {
    "colab": {},
    "colab_type": "code",
    "id": "9Cx3LXxfPm0N"
   },
   "outputs": [],
   "source": [
    "# Your code here\n",
    "import numpy as np\n",
    "import pandas as pd\n",
    "import seaborn as sns\n",
    "import matplotlib.pyplot as plt\n",
    "%matplotlib inline\n",
    "import warnings\n",
    "warnings.filterwarnings('ignore')\n",
    "\n",
    "sns.set_style(\"whitegrid\")"
   ]
  },
  {
   "cell_type": "markdown",
   "metadata": {
    "colab_type": "text",
    "id": "mFTQu0j6Pm0Q"
   },
   "source": [
    "**Import data**"
   ]
  },
  {
   "cell_type": "code",
   "execution_count": 0,
   "metadata": {
    "colab": {},
    "colab_type": "code",
    "id": "w0YVchrVPm0R"
   },
   "outputs": [],
   "source": [
    "link = \"https://ml101-khanhnguyen.s3-ap-southeast-1.amazonaws.com/devc/Online_Retail.csv\"\n",
    "# Note: set param encoding = 'latin1'\n",
    "# Your code here\n",
    "data = pd.read_csv(link, encoding='latin1')"
   ]
  },
  {
   "cell_type": "code",
   "execution_count": 0,
   "metadata": {
    "colab": {
     "base_uri": "https://localhost:8080/",
     "height": 278
    },
    "colab_type": "code",
    "id": "V3v8D3pTFrYh",
    "outputId": "f66c1ffc-34c9-4a95-b4ae-bb2a73af4e39"
   },
   "outputs": [
    {
     "data": {
      "text/html": [
       "<div>\n",
       "<style scoped>\n",
       "    .dataframe tbody tr th:only-of-type {\n",
       "        vertical-align: middle;\n",
       "    }\n",
       "\n",
       "    .dataframe tbody tr th {\n",
       "        vertical-align: top;\n",
       "    }\n",
       "\n",
       "    .dataframe thead th {\n",
       "        text-align: right;\n",
       "    }\n",
       "</style>\n",
       "<table border=\"1\" class=\"dataframe\">\n",
       "  <thead>\n",
       "    <tr style=\"text-align: right;\">\n",
       "      <th></th>\n",
       "      <th>InvoiceNo</th>\n",
       "      <th>StockCode</th>\n",
       "      <th>Description</th>\n",
       "      <th>Quantity</th>\n",
       "      <th>InvoiceDate</th>\n",
       "      <th>UnitPrice</th>\n",
       "      <th>CustomerID</th>\n",
       "      <th>Country</th>\n",
       "    </tr>\n",
       "  </thead>\n",
       "  <tbody>\n",
       "    <tr>\n",
       "      <th>0</th>\n",
       "      <td>536365</td>\n",
       "      <td>85123A</td>\n",
       "      <td>WHITE HANGING HEART T-LIGHT HOLDER</td>\n",
       "      <td>6</td>\n",
       "      <td>12/1/10 8:26</td>\n",
       "      <td>2.55</td>\n",
       "      <td>17850.0</td>\n",
       "      <td>United Kingdom</td>\n",
       "    </tr>\n",
       "    <tr>\n",
       "      <th>1</th>\n",
       "      <td>536365</td>\n",
       "      <td>71053</td>\n",
       "      <td>WHITE METAL LANTERN</td>\n",
       "      <td>6</td>\n",
       "      <td>12/1/10 8:26</td>\n",
       "      <td>3.39</td>\n",
       "      <td>17850.0</td>\n",
       "      <td>United Kingdom</td>\n",
       "    </tr>\n",
       "    <tr>\n",
       "      <th>2</th>\n",
       "      <td>536365</td>\n",
       "      <td>84406B</td>\n",
       "      <td>CREAM CUPID HEARTS COAT HANGER</td>\n",
       "      <td>8</td>\n",
       "      <td>12/1/10 8:26</td>\n",
       "      <td>2.75</td>\n",
       "      <td>17850.0</td>\n",
       "      <td>United Kingdom</td>\n",
       "    </tr>\n",
       "    <tr>\n",
       "      <th>3</th>\n",
       "      <td>536365</td>\n",
       "      <td>84029G</td>\n",
       "      <td>KNITTED UNION FLAG HOT WATER BOTTLE</td>\n",
       "      <td>6</td>\n",
       "      <td>12/1/10 8:26</td>\n",
       "      <td>3.39</td>\n",
       "      <td>17850.0</td>\n",
       "      <td>United Kingdom</td>\n",
       "    </tr>\n",
       "    <tr>\n",
       "      <th>4</th>\n",
       "      <td>536365</td>\n",
       "      <td>84029E</td>\n",
       "      <td>RED WOOLLY HOTTIE WHITE HEART.</td>\n",
       "      <td>6</td>\n",
       "      <td>12/1/10 8:26</td>\n",
       "      <td>3.39</td>\n",
       "      <td>17850.0</td>\n",
       "      <td>United Kingdom</td>\n",
       "    </tr>\n",
       "  </tbody>\n",
       "</table>\n",
       "</div>"
      ],
      "text/plain": [
       "  InvoiceNo StockCode  ... CustomerID         Country\n",
       "0    536365    85123A  ...    17850.0  United Kingdom\n",
       "1    536365     71053  ...    17850.0  United Kingdom\n",
       "2    536365    84406B  ...    17850.0  United Kingdom\n",
       "3    536365    84029G  ...    17850.0  United Kingdom\n",
       "4    536365    84029E  ...    17850.0  United Kingdom\n",
       "\n",
       "[5 rows x 8 columns]"
      ]
     },
     "execution_count": 3,
     "metadata": {
      "tags": []
     },
     "output_type": "execute_result"
    }
   ],
   "source": [
    "# Print out First 5 rows from dataframe\n",
    "# Your code here\n",
    "data.head(5)"
   ]
  },
  {
   "cell_type": "code",
   "execution_count": 0,
   "metadata": {
    "colab": {
     "base_uri": "https://localhost:8080/",
     "height": 543
    },
    "colab_type": "code",
    "id": "Ak3BMF9GH9Vz",
    "outputId": "143399ff-9f6b-47e6-8074-1feb069c01a2"
   },
   "outputs": [
    {
     "data": {
      "text/html": [
       "<div>\n",
       "<style scoped>\n",
       "    .dataframe tbody tr th:only-of-type {\n",
       "        vertical-align: middle;\n",
       "    }\n",
       "\n",
       "    .dataframe tbody tr th {\n",
       "        vertical-align: top;\n",
       "    }\n",
       "\n",
       "    .dataframe thead th {\n",
       "        text-align: right;\n",
       "    }\n",
       "</style>\n",
       "<table border=\"1\" class=\"dataframe\">\n",
       "  <thead>\n",
       "    <tr style=\"text-align: right;\">\n",
       "      <th></th>\n",
       "      <th>InvoiceNo</th>\n",
       "      <th>StockCode</th>\n",
       "      <th>Description</th>\n",
       "      <th>Quantity</th>\n",
       "      <th>InvoiceDate</th>\n",
       "      <th>UnitPrice</th>\n",
       "      <th>CustomerID</th>\n",
       "      <th>Country</th>\n",
       "    </tr>\n",
       "  </thead>\n",
       "  <tbody>\n",
       "    <tr>\n",
       "      <th>338754</th>\n",
       "      <td>566564</td>\n",
       "      <td>20726</td>\n",
       "      <td>LUNCH BAG WOODLAND</td>\n",
       "      <td>2</td>\n",
       "      <td>9/13/11 12:26</td>\n",
       "      <td>1.65</td>\n",
       "      <td>15522.0</td>\n",
       "      <td>United Kingdom</td>\n",
       "    </tr>\n",
       "    <tr>\n",
       "      <th>245003</th>\n",
       "      <td>558567</td>\n",
       "      <td>21929</td>\n",
       "      <td>JUMBO BAG PINK VINTAGE PAISLEY</td>\n",
       "      <td>10</td>\n",
       "      <td>6/30/11 14:37</td>\n",
       "      <td>2.08</td>\n",
       "      <td>14191.0</td>\n",
       "      <td>United Kingdom</td>\n",
       "    </tr>\n",
       "    <tr>\n",
       "      <th>476859</th>\n",
       "      <td>577036</td>\n",
       "      <td>23419</td>\n",
       "      <td>HOME SWEET HOME BOTTLE</td>\n",
       "      <td>1</td>\n",
       "      <td>11/17/11 13:21</td>\n",
       "      <td>2.08</td>\n",
       "      <td>17797.0</td>\n",
       "      <td>United Kingdom</td>\n",
       "    </tr>\n",
       "    <tr>\n",
       "      <th>345953</th>\n",
       "      <td>567183</td>\n",
       "      <td>23402</td>\n",
       "      <td>HOME SWEET HOME 3 PEG HANGER</td>\n",
       "      <td>2</td>\n",
       "      <td>9/18/11 15:32</td>\n",
       "      <td>3.75</td>\n",
       "      <td>14769.0</td>\n",
       "      <td>United Kingdom</td>\n",
       "    </tr>\n",
       "    <tr>\n",
       "      <th>101169</th>\n",
       "      <td>544904</td>\n",
       "      <td>22989</td>\n",
       "      <td>SET 2 PANTRY DESIGN TEA TOWELS</td>\n",
       "      <td>6</td>\n",
       "      <td>2/24/11 13:46</td>\n",
       "      <td>3.25</td>\n",
       "      <td>13018.0</td>\n",
       "      <td>United Kingdom</td>\n",
       "    </tr>\n",
       "    <tr>\n",
       "      <th>313098</th>\n",
       "      <td>564436</td>\n",
       "      <td>22219</td>\n",
       "      <td>LOVEBIRD HANGING DECORATION WHITE</td>\n",
       "      <td>2</td>\n",
       "      <td>8/25/11 12:06</td>\n",
       "      <td>0.85</td>\n",
       "      <td>17841.0</td>\n",
       "      <td>United Kingdom</td>\n",
       "    </tr>\n",
       "    <tr>\n",
       "      <th>180447</th>\n",
       "      <td>552318</td>\n",
       "      <td>90014B</td>\n",
       "      <td>GOLD M PEARL  ORBIT NECKLACE</td>\n",
       "      <td>2</td>\n",
       "      <td>5/8/11 16:13</td>\n",
       "      <td>9.95</td>\n",
       "      <td>17231.0</td>\n",
       "      <td>United Kingdom</td>\n",
       "    </tr>\n",
       "    <tr>\n",
       "      <th>46364</th>\n",
       "      <td>540352</td>\n",
       "      <td>90214G</td>\n",
       "      <td>LETTER \"G\" BLING KEY RING</td>\n",
       "      <td>1</td>\n",
       "      <td>1/6/11 14:27</td>\n",
       "      <td>0.85</td>\n",
       "      <td>NaN</td>\n",
       "      <td>United Kingdom</td>\n",
       "    </tr>\n",
       "    <tr>\n",
       "      <th>391111</th>\n",
       "      <td>570652</td>\n",
       "      <td>23145</td>\n",
       "      <td>ZINC T-LIGHT HOLDER STAR LARGE</td>\n",
       "      <td>24</td>\n",
       "      <td>10/11/11 13:45</td>\n",
       "      <td>0.95</td>\n",
       "      <td>17863.0</td>\n",
       "      <td>United Kingdom</td>\n",
       "    </tr>\n",
       "    <tr>\n",
       "      <th>453380</th>\n",
       "      <td>575477</td>\n",
       "      <td>20727</td>\n",
       "      <td>LUNCH BAG  BLACK SKULL.</td>\n",
       "      <td>2</td>\n",
       "      <td>11/9/11 16:14</td>\n",
       "      <td>4.13</td>\n",
       "      <td>NaN</td>\n",
       "      <td>United Kingdom</td>\n",
       "    </tr>\n",
       "  </tbody>\n",
       "</table>\n",
       "</div>"
      ],
      "text/plain": [
       "       InvoiceNo StockCode  ... CustomerID         Country\n",
       "338754    566564     20726  ...    15522.0  United Kingdom\n",
       "245003    558567     21929  ...    14191.0  United Kingdom\n",
       "476859    577036     23419  ...    17797.0  United Kingdom\n",
       "345953    567183     23402  ...    14769.0  United Kingdom\n",
       "101169    544904     22989  ...    13018.0  United Kingdom\n",
       "313098    564436     22219  ...    17841.0  United Kingdom\n",
       "180447    552318    90014B  ...    17231.0  United Kingdom\n",
       "46364     540352    90214G  ...        NaN  United Kingdom\n",
       "391111    570652     23145  ...    17863.0  United Kingdom\n",
       "453380    575477     20727  ...        NaN  United Kingdom\n",
       "\n",
       "[10 rows x 8 columns]"
      ]
     },
     "execution_count": 4,
     "metadata": {
      "tags": []
     },
     "output_type": "execute_result"
    }
   ],
   "source": [
    "data.sample(10)"
   ]
  },
  {
   "cell_type": "code",
   "execution_count": 0,
   "metadata": {
    "colab": {
     "base_uri": "https://localhost:8080/",
     "height": 248
    },
    "colab_type": "code",
    "id": "AWnmPduJE_Bp",
    "outputId": "ca2614ec-940e-4e13-f5d2-fa4c71e424ff"
   },
   "outputs": [
    {
     "name": "stdout",
     "output_type": "stream",
     "text": [
      "<class 'pandas.core.frame.DataFrame'>\n",
      "RangeIndex: 541909 entries, 0 to 541908\n",
      "Data columns (total 8 columns):\n",
      "InvoiceNo      541909 non-null object\n",
      "StockCode      541909 non-null object\n",
      "Description    540455 non-null object\n",
      "Quantity       541909 non-null int64\n",
      "InvoiceDate    541909 non-null object\n",
      "UnitPrice      541909 non-null float64\n",
      "CustomerID     406829 non-null float64\n",
      "Country        541909 non-null object\n",
      "dtypes: float64(2), int64(1), object(5)\n",
      "memory usage: 33.1+ MB\n"
     ]
    }
   ],
   "source": [
    "# Print out brief info\n",
    "data.info()"
   ]
  },
  {
   "cell_type": "code",
   "execution_count": 0,
   "metadata": {
    "colab": {
     "base_uri": "https://localhost:8080/",
     "height": 457
    },
    "colab_type": "code",
    "id": "u4Msf54uFy4w",
    "outputId": "8c5381c5-214e-4b9f-f12f-416fd33b64a4"
   },
   "outputs": [
    {
     "data": {
      "text/html": [
       "<div>\n",
       "<style scoped>\n",
       "    .dataframe tbody tr th:only-of-type {\n",
       "        vertical-align: middle;\n",
       "    }\n",
       "\n",
       "    .dataframe tbody tr th {\n",
       "        vertical-align: top;\n",
       "    }\n",
       "\n",
       "    .dataframe thead th {\n",
       "        text-align: right;\n",
       "    }\n",
       "</style>\n",
       "<table border=\"1\" class=\"dataframe\">\n",
       "  <thead>\n",
       "    <tr style=\"text-align: right;\">\n",
       "      <th></th>\n",
       "      <th>InvoiceNo</th>\n",
       "      <th>StockCode</th>\n",
       "      <th>Description</th>\n",
       "      <th>Quantity</th>\n",
       "      <th>InvoiceDate</th>\n",
       "      <th>UnitPrice</th>\n",
       "      <th>CustomerID</th>\n",
       "      <th>Country</th>\n",
       "    </tr>\n",
       "  </thead>\n",
       "  <tbody>\n",
       "    <tr>\n",
       "      <th>count</th>\n",
       "      <td>541909</td>\n",
       "      <td>541909</td>\n",
       "      <td>540455</td>\n",
       "      <td>541909.000000</td>\n",
       "      <td>541909</td>\n",
       "      <td>541909.000000</td>\n",
       "      <td>406829.000000</td>\n",
       "      <td>541909</td>\n",
       "    </tr>\n",
       "    <tr>\n",
       "      <th>unique</th>\n",
       "      <td>25900</td>\n",
       "      <td>4070</td>\n",
       "      <td>4223</td>\n",
       "      <td>NaN</td>\n",
       "      <td>23260</td>\n",
       "      <td>NaN</td>\n",
       "      <td>NaN</td>\n",
       "      <td>38</td>\n",
       "    </tr>\n",
       "    <tr>\n",
       "      <th>top</th>\n",
       "      <td>573585</td>\n",
       "      <td>85123A</td>\n",
       "      <td>WHITE HANGING HEART T-LIGHT HOLDER</td>\n",
       "      <td>NaN</td>\n",
       "      <td>10/31/11 14:41</td>\n",
       "      <td>NaN</td>\n",
       "      <td>NaN</td>\n",
       "      <td>United Kingdom</td>\n",
       "    </tr>\n",
       "    <tr>\n",
       "      <th>freq</th>\n",
       "      <td>1114</td>\n",
       "      <td>2313</td>\n",
       "      <td>2369</td>\n",
       "      <td>NaN</td>\n",
       "      <td>1114</td>\n",
       "      <td>NaN</td>\n",
       "      <td>NaN</td>\n",
       "      <td>495478</td>\n",
       "    </tr>\n",
       "    <tr>\n",
       "      <th>mean</th>\n",
       "      <td>NaN</td>\n",
       "      <td>NaN</td>\n",
       "      <td>NaN</td>\n",
       "      <td>9.552250</td>\n",
       "      <td>NaN</td>\n",
       "      <td>4.611114</td>\n",
       "      <td>15287.690570</td>\n",
       "      <td>NaN</td>\n",
       "    </tr>\n",
       "    <tr>\n",
       "      <th>std</th>\n",
       "      <td>NaN</td>\n",
       "      <td>NaN</td>\n",
       "      <td>NaN</td>\n",
       "      <td>218.081158</td>\n",
       "      <td>NaN</td>\n",
       "      <td>96.759853</td>\n",
       "      <td>1713.600303</td>\n",
       "      <td>NaN</td>\n",
       "    </tr>\n",
       "    <tr>\n",
       "      <th>min</th>\n",
       "      <td>NaN</td>\n",
       "      <td>NaN</td>\n",
       "      <td>NaN</td>\n",
       "      <td>-80995.000000</td>\n",
       "      <td>NaN</td>\n",
       "      <td>-11062.060000</td>\n",
       "      <td>12346.000000</td>\n",
       "      <td>NaN</td>\n",
       "    </tr>\n",
       "    <tr>\n",
       "      <th>25%</th>\n",
       "      <td>NaN</td>\n",
       "      <td>NaN</td>\n",
       "      <td>NaN</td>\n",
       "      <td>1.000000</td>\n",
       "      <td>NaN</td>\n",
       "      <td>1.250000</td>\n",
       "      <td>13953.000000</td>\n",
       "      <td>NaN</td>\n",
       "    </tr>\n",
       "    <tr>\n",
       "      <th>50%</th>\n",
       "      <td>NaN</td>\n",
       "      <td>NaN</td>\n",
       "      <td>NaN</td>\n",
       "      <td>3.000000</td>\n",
       "      <td>NaN</td>\n",
       "      <td>2.080000</td>\n",
       "      <td>15152.000000</td>\n",
       "      <td>NaN</td>\n",
       "    </tr>\n",
       "    <tr>\n",
       "      <th>75%</th>\n",
       "      <td>NaN</td>\n",
       "      <td>NaN</td>\n",
       "      <td>NaN</td>\n",
       "      <td>10.000000</td>\n",
       "      <td>NaN</td>\n",
       "      <td>4.130000</td>\n",
       "      <td>16791.000000</td>\n",
       "      <td>NaN</td>\n",
       "    </tr>\n",
       "    <tr>\n",
       "      <th>max</th>\n",
       "      <td>NaN</td>\n",
       "      <td>NaN</td>\n",
       "      <td>NaN</td>\n",
       "      <td>80995.000000</td>\n",
       "      <td>NaN</td>\n",
       "      <td>38970.000000</td>\n",
       "      <td>18287.000000</td>\n",
       "      <td>NaN</td>\n",
       "    </tr>\n",
       "  </tbody>\n",
       "</table>\n",
       "</div>"
      ],
      "text/plain": [
       "       InvoiceNo StockCode  ...     CustomerID         Country\n",
       "count     541909    541909  ...  406829.000000          541909\n",
       "unique     25900      4070  ...            NaN              38\n",
       "top       573585    85123A  ...            NaN  United Kingdom\n",
       "freq        1114      2313  ...            NaN          495478\n",
       "mean         NaN       NaN  ...   15287.690570             NaN\n",
       "std          NaN       NaN  ...    1713.600303             NaN\n",
       "min          NaN       NaN  ...   12346.000000             NaN\n",
       "25%          NaN       NaN  ...   13953.000000             NaN\n",
       "50%          NaN       NaN  ...   15152.000000             NaN\n",
       "75%          NaN       NaN  ...   16791.000000             NaN\n",
       "max          NaN       NaN  ...   18287.000000             NaN\n",
       "\n",
       "[11 rows x 8 columns]"
      ]
     },
     "execution_count": 6,
     "metadata": {
      "tags": []
     },
     "output_type": "execute_result"
    }
   ],
   "source": [
    "data.describe(include=\"all\")"
   ]
  },
  {
   "cell_type": "markdown",
   "metadata": {
    "colab_type": "text",
    "id": "hdaJcTUkEYEh"
   },
   "source": [
    "### My observation: \n",
    "Data columns have mixtype, so I had to use the param ```include=\"all\"```"
   ]
  },
  {
   "cell_type": "markdown",
   "metadata": {
    "colab_type": "text",
    "id": "wY6yv3UsPm0k"
   },
   "source": [
    "### Step 2 - Cleaning the data\n",
    "\n",
    "Few of useful data cleaning functions:\n",
    "\n",
    "* `s.astype('category')` # This will convert the datatype of the series to float *Please note that \"s\" here is a Pandas Series\n",
    "\n",
    "* `s.replace(1,'one')` # This will replace all values equal to 1 with 'one'\n",
    "\n",
    "* `s.replace([1,3],['one','three'])` # This will replace all 1 with 'one' and 3 with 'three'\n",
    "\n",
    "* `data.rename(columns=lambda x: x + 1)` # Mass renaming of columns\n",
    "\n",
    "* `data.rename(columns={'oldname': 'new name'})` # Selective renaming\n",
    "\n",
    "* `data.set_index('column_one')` #  This will change the index\n",
    "\n",
    "* `data.rename(index=lambda x: x + 1)` # Mass renaming of index\n",
    "\n",
    "* `data.dropna()` # Remove missing values\n",
    "\n",
    "* `data.fillna(x)` #  This will replaces all null values with x\n",
    "\n",
    "* `s.fillna(s.mean())` # This will replace all null values with the mean (mean can be replaced with almost any function from the below section) :\n",
    "\n",
    "* `data.corr()` # This will return the correlation between columns in a DataFrame\n",
    "\n",
    "* `data.count()` # This will return the number of non-null values in each DataFrame column\n",
    "\n",
    "* `data.max()` # This will return the highest value in each column\n",
    "\n",
    "* `data.min()` # This will return the lowest value in each column\n",
    "\n",
    "* `data.median()` # This will return the median of each column\n",
    "\n",
    "* `data.std()` # This will returns the standard deviation of each column\n"
   ]
  },
  {
   "cell_type": "markdown",
   "metadata": {
    "colab_type": "text",
    "id": "rcNsGWarPm06"
   },
   "source": [
    "**Check for NaN values**"
   ]
  },
  {
   "cell_type": "code",
   "execution_count": 0,
   "metadata": {
    "colab": {
     "base_uri": "https://localhost:8080/",
     "height": 177
    },
    "colab_type": "code",
    "id": "TqLxHGy2Pm06",
    "outputId": "d3542bac-4016-4ffd-ba8d-c6f7fa6aa1eb"
   },
   "outputs": [
    {
     "data": {
      "text/plain": [
       "InvoiceNo           0\n",
       "StockCode           0\n",
       "Description      1454\n",
       "Quantity            0\n",
       "InvoiceDate         0\n",
       "UnitPrice           0\n",
       "CustomerID     135080\n",
       "Country             0\n",
       "dtype: int64"
      ]
     },
     "execution_count": 7,
     "metadata": {
      "tags": []
     },
     "output_type": "execute_result"
    }
   ],
   "source": [
    "# Your code here\n",
    "data.isnull().sum()"
   ]
  },
  {
   "cell_type": "markdown",
   "metadata": {
    "colab_type": "text",
    "id": "RdhPk_x1Pm0-"
   },
   "source": [
    "**Examine few examples of NaN values**"
   ]
  },
  {
   "cell_type": "code",
   "execution_count": 0,
   "metadata": {
    "colab": {
     "base_uri": "https://localhost:8080/",
     "height": 295
    },
    "colab_type": "code",
    "id": "3kGYpbdOPm0-",
    "outputId": "dd7b172c-79e5-49e1-a9ef-1b2fb30ebe67"
   },
   "outputs": [
    {
     "data": {
      "text/html": [
       "<div>\n",
       "<style scoped>\n",
       "    .dataframe tbody tr th:only-of-type {\n",
       "        vertical-align: middle;\n",
       "    }\n",
       "\n",
       "    .dataframe tbody tr th {\n",
       "        vertical-align: top;\n",
       "    }\n",
       "\n",
       "    .dataframe thead th {\n",
       "        text-align: right;\n",
       "    }\n",
       "</style>\n",
       "<table border=\"1\" class=\"dataframe\">\n",
       "  <thead>\n",
       "    <tr style=\"text-align: right;\">\n",
       "      <th></th>\n",
       "      <th>InvoiceNo</th>\n",
       "      <th>StockCode</th>\n",
       "      <th>Description</th>\n",
       "      <th>Quantity</th>\n",
       "      <th>InvoiceDate</th>\n",
       "      <th>UnitPrice</th>\n",
       "      <th>CustomerID</th>\n",
       "      <th>Country</th>\n",
       "    </tr>\n",
       "  </thead>\n",
       "  <tbody>\n",
       "    <tr>\n",
       "      <th>394258</th>\n",
       "      <td>570871</td>\n",
       "      <td>23269</td>\n",
       "      <td>SET OF 2 CERAMIC CHRISTMAS TREES</td>\n",
       "      <td>1</td>\n",
       "      <td>10/12/11 16:36</td>\n",
       "      <td>2.92</td>\n",
       "      <td>NaN</td>\n",
       "      <td>United Kingdom</td>\n",
       "    </tr>\n",
       "    <tr>\n",
       "      <th>178727</th>\n",
       "      <td>552234</td>\n",
       "      <td>22147</td>\n",
       "      <td>FELTCRAFT BUTTERFLY HEARTS</td>\n",
       "      <td>1</td>\n",
       "      <td>5/6/11 16:01</td>\n",
       "      <td>3.29</td>\n",
       "      <td>NaN</td>\n",
       "      <td>United Kingdom</td>\n",
       "    </tr>\n",
       "    <tr>\n",
       "      <th>529241</th>\n",
       "      <td>580730</td>\n",
       "      <td>23199</td>\n",
       "      <td>JUMBO BAG APPLES</td>\n",
       "      <td>1</td>\n",
       "      <td>12/5/11 17:28</td>\n",
       "      <td>4.13</td>\n",
       "      <td>NaN</td>\n",
       "      <td>United Kingdom</td>\n",
       "    </tr>\n",
       "    <tr>\n",
       "      <th>6347</th>\n",
       "      <td>536876</td>\n",
       "      <td>21991</td>\n",
       "      <td>BOHEMIAN COLLAGE STATIONERY SET</td>\n",
       "      <td>3</td>\n",
       "      <td>12/3/10 11:36</td>\n",
       "      <td>2.51</td>\n",
       "      <td>NaN</td>\n",
       "      <td>United Kingdom</td>\n",
       "    </tr>\n",
       "    <tr>\n",
       "      <th>259427</th>\n",
       "      <td>559693</td>\n",
       "      <td>20718</td>\n",
       "      <td>RED RETROSPOT SHOPPER BAG</td>\n",
       "      <td>4</td>\n",
       "      <td>7/11/11 16:21</td>\n",
       "      <td>1.25</td>\n",
       "      <td>NaN</td>\n",
       "      <td>United Kingdom</td>\n",
       "    </tr>\n",
       "  </tbody>\n",
       "</table>\n",
       "</div>"
      ],
      "text/plain": [
       "       InvoiceNo StockCode  ... CustomerID         Country\n",
       "394258    570871     23269  ...        NaN  United Kingdom\n",
       "178727    552234     22147  ...        NaN  United Kingdom\n",
       "529241    580730     23199  ...        NaN  United Kingdom\n",
       "6347      536876     21991  ...        NaN  United Kingdom\n",
       "259427    559693     20718  ...        NaN  United Kingdom\n",
       "\n",
       "[5 rows x 8 columns]"
      ]
     },
     "execution_count": 8,
     "metadata": {
      "tags": []
     },
     "output_type": "execute_result"
    }
   ],
   "source": [
    "# List all NaN values\n",
    "data[data['CustomerID'].isnull()].sample(5)"
   ]
  },
  {
   "cell_type": "markdown",
   "metadata": {
    "colab_type": "text",
    "id": "mwRqh6KSJU2i"
   },
   "source": [
    "### My observation:\n",
    "- Why customers without IDs can buy items? I thought that they can only buy items when they're logged in - which means they must have a customer ID\n",
    "- For the null description: maybe the seller is lazy"
   ]
  },
  {
   "cell_type": "markdown",
   "metadata": {
    "colab_type": "text",
    "id": "EfyVbXSBZvnB"
   },
   "source": [
    "### Remove items without description"
   ]
  },
  {
   "cell_type": "code",
   "execution_count": 0,
   "metadata": {
    "colab": {},
    "colab_type": "code",
    "id": "KViloNJZZy9z"
   },
   "outputs": [],
   "source": [
    "_desIndex = data[data['Description'].isnull()].index\n",
    "data.drop(_desIndex, inplace=True)"
   ]
  },
  {
   "cell_type": "markdown",
   "metadata": {
    "colab_type": "text",
    "id": "RDOAQ4MUUQRF"
   },
   "source": [
    "### More about null Customer ID"
   ]
  },
  {
   "cell_type": "code",
   "execution_count": 0,
   "metadata": {
    "colab": {},
    "colab_type": "code",
    "id": "fRo6xKkTUPNw"
   },
   "outputs": [],
   "source": [
    "# from data info there are some NaN customer ids\n",
    "# I will remove them\n",
    "_cusIndex = data[data['CustomerID'].isnull()].index\n",
    "data.drop(_cusIndex, inplace=True)"
   ]
  },
  {
   "cell_type": "markdown",
   "metadata": {
    "colab_type": "text",
    "id": "_xOmfHhMPO1W"
   },
   "source": [
    "### Check unique CustomerID"
   ]
  },
  {
   "cell_type": "code",
   "execution_count": 0,
   "metadata": {
    "colab": {
     "base_uri": "https://localhost:8080/",
     "height": 35
    },
    "colab_type": "code",
    "id": "U_UpGiRKPNJJ",
    "outputId": "a6e0d42b-3ada-4190-eabf-35b58350c642"
   },
   "outputs": [
    {
     "data": {
      "text/plain": [
       "False"
      ]
     },
     "execution_count": 11,
     "metadata": {
      "tags": []
     },
     "output_type": "execute_result"
    }
   ],
   "source": [
    "data['CustomerID'].nunique() == data['CustomerID'].count()"
   ]
  },
  {
   "cell_type": "markdown",
   "metadata": {
    "colab_type": "text",
    "id": "o04wG1R8PhvZ"
   },
   "source": [
    "### My observation:\n",
    "Duplicate IDs may mean that 1 customer buys many times"
   ]
  },
  {
   "cell_type": "markdown",
   "metadata": {
    "colab_type": "text",
    "id": "OpAhltPeHaLR"
   },
   "source": [
    "**Exclude negative Quatity entries**"
   ]
  },
  {
   "cell_type": "code",
   "execution_count": 0,
   "metadata": {
    "colab": {
     "base_uri": "https://localhost:8080/",
     "height": 595
    },
    "colab_type": "code",
    "id": "71F-5PY-HZ6T",
    "outputId": "e7dabb50-5e3e-4b5d-a798-f8533f76f082"
   },
   "outputs": [
    {
     "name": "stdout",
     "output_type": "stream",
     "text": [
      "8905\n"
     ]
    },
    {
     "data": {
      "text/html": [
       "<div>\n",
       "<style scoped>\n",
       "    .dataframe tbody tr th:only-of-type {\n",
       "        vertical-align: middle;\n",
       "    }\n",
       "\n",
       "    .dataframe tbody tr th {\n",
       "        vertical-align: top;\n",
       "    }\n",
       "\n",
       "    .dataframe thead th {\n",
       "        text-align: right;\n",
       "    }\n",
       "</style>\n",
       "<table border=\"1\" class=\"dataframe\">\n",
       "  <thead>\n",
       "    <tr style=\"text-align: right;\">\n",
       "      <th></th>\n",
       "      <th>InvoiceNo</th>\n",
       "      <th>StockCode</th>\n",
       "      <th>Description</th>\n",
       "      <th>Quantity</th>\n",
       "      <th>InvoiceDate</th>\n",
       "      <th>UnitPrice</th>\n",
       "      <th>CustomerID</th>\n",
       "      <th>Country</th>\n",
       "    </tr>\n",
       "  </thead>\n",
       "  <tbody>\n",
       "    <tr>\n",
       "      <th>337782</th>\n",
       "      <td>C566470</td>\n",
       "      <td>23199</td>\n",
       "      <td>JUMBO BAG APPLES</td>\n",
       "      <td>-1</td>\n",
       "      <td>9/12/11 18:16</td>\n",
       "      <td>2.08</td>\n",
       "      <td>13136.0</td>\n",
       "      <td>United Kingdom</td>\n",
       "    </tr>\n",
       "    <tr>\n",
       "      <th>320704</th>\n",
       "      <td>C565078</td>\n",
       "      <td>D</td>\n",
       "      <td>Discount</td>\n",
       "      <td>-1</td>\n",
       "      <td>8/31/11 17:45</td>\n",
       "      <td>57.60</td>\n",
       "      <td>16422.0</td>\n",
       "      <td>United Kingdom</td>\n",
       "    </tr>\n",
       "    <tr>\n",
       "      <th>279374</th>\n",
       "      <td>C561319</td>\n",
       "      <td>22609</td>\n",
       "      <td>PENS ASSORTED SPACEBALL</td>\n",
       "      <td>-36</td>\n",
       "      <td>7/26/11 12:43</td>\n",
       "      <td>0.19</td>\n",
       "      <td>15106.0</td>\n",
       "      <td>United Kingdom</td>\n",
       "    </tr>\n",
       "    <tr>\n",
       "      <th>494928</th>\n",
       "      <td>C578280</td>\n",
       "      <td>20752</td>\n",
       "      <td>BLUE POLKADOT WASHING UP GLOVES</td>\n",
       "      <td>-1</td>\n",
       "      <td>11/23/11 13:53</td>\n",
       "      <td>2.10</td>\n",
       "      <td>17841.0</td>\n",
       "      <td>United Kingdom</td>\n",
       "    </tr>\n",
       "    <tr>\n",
       "      <th>269929</th>\n",
       "      <td>C560533</td>\n",
       "      <td>23192</td>\n",
       "      <td>BUNDLE OF 3 ALPHABET EXERCISE BOOKS</td>\n",
       "      <td>-2</td>\n",
       "      <td>7/19/11 12:00</td>\n",
       "      <td>1.65</td>\n",
       "      <td>16488.0</td>\n",
       "      <td>United Kingdom</td>\n",
       "    </tr>\n",
       "    <tr>\n",
       "      <th>72755</th>\n",
       "      <td>C542262</td>\n",
       "      <td>21843</td>\n",
       "      <td>RED RETROSPOT CAKE STAND</td>\n",
       "      <td>-1</td>\n",
       "      <td>1/26/11 17:15</td>\n",
       "      <td>10.95</td>\n",
       "      <td>17591.0</td>\n",
       "      <td>United Kingdom</td>\n",
       "    </tr>\n",
       "    <tr>\n",
       "      <th>394085</th>\n",
       "      <td>C570867</td>\n",
       "      <td>23354</td>\n",
       "      <td>6 GIFT TAGS 50'S CHRISTMAS</td>\n",
       "      <td>-12</td>\n",
       "      <td>10/12/11 16:17</td>\n",
       "      <td>0.83</td>\n",
       "      <td>12607.0</td>\n",
       "      <td>USA</td>\n",
       "    </tr>\n",
       "    <tr>\n",
       "      <th>246911</th>\n",
       "      <td>C558745</td>\n",
       "      <td>23182</td>\n",
       "      <td>TOILET SIGN OCCUPIED OR VACANT</td>\n",
       "      <td>-1</td>\n",
       "      <td>7/1/11 17:02</td>\n",
       "      <td>0.83</td>\n",
       "      <td>14415.0</td>\n",
       "      <td>United Kingdom</td>\n",
       "    </tr>\n",
       "    <tr>\n",
       "      <th>333202</th>\n",
       "      <td>C566187</td>\n",
       "      <td>M</td>\n",
       "      <td>Manual</td>\n",
       "      <td>-1</td>\n",
       "      <td>9/9/11 13:03</td>\n",
       "      <td>110.45</td>\n",
       "      <td>14096.0</td>\n",
       "      <td>United Kingdom</td>\n",
       "    </tr>\n",
       "    <tr>\n",
       "      <th>378231</th>\n",
       "      <td>C569636</td>\n",
       "      <td>22994</td>\n",
       "      <td>TRAVEL CARD WALLET RETROSPOT</td>\n",
       "      <td>-1</td>\n",
       "      <td>10/5/11 12:14</td>\n",
       "      <td>0.42</td>\n",
       "      <td>12841.0</td>\n",
       "      <td>United Kingdom</td>\n",
       "    </tr>\n",
       "  </tbody>\n",
       "</table>\n",
       "</div>"
      ],
      "text/plain": [
       "       InvoiceNo StockCode  ... CustomerID         Country\n",
       "337782   C566470     23199  ...    13136.0  United Kingdom\n",
       "320704   C565078         D  ...    16422.0  United Kingdom\n",
       "279374   C561319     22609  ...    15106.0  United Kingdom\n",
       "494928   C578280     20752  ...    17841.0  United Kingdom\n",
       "269929   C560533     23192  ...    16488.0  United Kingdom\n",
       "72755    C542262     21843  ...    17591.0  United Kingdom\n",
       "394085   C570867     23354  ...    12607.0             USA\n",
       "246911   C558745     23182  ...    14415.0  United Kingdom\n",
       "333202   C566187         M  ...    14096.0  United Kingdom\n",
       "378231   C569636     22994  ...    12841.0  United Kingdom\n",
       "\n",
       "[10 rows x 8 columns]"
      ]
     },
     "execution_count": 12,
     "metadata": {
      "tags": []
     },
     "output_type": "execute_result"
    }
   ],
   "source": [
    "negative_quantity = data[data['Quantity'] < 0]\n",
    "print(len(negative_quantity))\n",
    "negative_quantity.sample(10)"
   ]
  },
  {
   "cell_type": "code",
   "execution_count": 0,
   "metadata": {
    "colab": {},
    "colab_type": "code",
    "id": "WcVW38lRM4sK"
   },
   "outputs": [],
   "source": [
    "data[data['Quantity'] < 0] = 0"
   ]
  },
  {
   "cell_type": "markdown",
   "metadata": {
    "colab_type": "text",
    "id": "xoN_eb-0NRQt"
   },
   "source": [
    "### My observation:\n",
    "How can they have negative quantity?\n",
    "\n",
    "I replaced negative quantity with zero, because I think negative quantity is the same as you didn't buy the item"
   ]
  },
  {
   "cell_type": "markdown",
   "metadata": {
    "colab_type": "text",
    "id": "s5idc5z2H1zJ"
   },
   "source": [
    "**Exclude negative Price entries**"
   ]
  },
  {
   "cell_type": "code",
   "execution_count": 0,
   "metadata": {
    "colab": {
     "base_uri": "https://localhost:8080/",
     "height": 35
    },
    "colab_type": "code",
    "id": "_8OdtEVFH1fr",
    "outputId": "121eff0a-36f0-420e-e2d1-a6e9f7b8aed0"
   },
   "outputs": [
    {
     "name": "stdout",
     "output_type": "stream",
     "text": [
      "8945\n"
     ]
    }
   ],
   "source": [
    "negative_price = data[data['UnitPrice'] <= 0]\n",
    "print(len(negative_price))\n",
    "# I will remove the items with price < 0 and free items (price = 0) because I think free items don't make sense. I think."
   ]
  },
  {
   "cell_type": "code",
   "execution_count": 0,
   "metadata": {
    "colab": {},
    "colab_type": "code",
    "id": "Q-uWlIdGN6_p"
   },
   "outputs": [],
   "source": [
    "_index = data[data['UnitPrice'] <= 0].index\n",
    "data.drop(_index, inplace=True)"
   ]
  },
  {
   "cell_type": "markdown",
   "metadata": {
    "colab_type": "text",
    "id": "KMWai3tgO6Qd"
   },
   "source": [
    "### My observation:\n",
    "There are only 2 rows with negative price, and I don't understand their description, so I just dropped it."
   ]
  },
  {
   "cell_type": "markdown",
   "metadata": {
    "colab_type": "text",
    "id": "bboAN211RWqJ"
   },
   "source": [
    "### Change column types because I want to change"
   ]
  },
  {
   "cell_type": "code",
   "execution_count": 0,
   "metadata": {
    "colab": {
     "base_uri": "https://localhost:8080/",
     "height": 248
    },
    "colab_type": "code",
    "id": "rmQ2BJf6PNgi",
    "outputId": "be83e705-6c6a-438c-8891-18a6380d47d7"
   },
   "outputs": [
    {
     "name": "stdout",
     "output_type": "stream",
     "text": [
      "<class 'pandas.core.frame.DataFrame'>\n",
      "Int64Index: 397884 entries, 0 to 541908\n",
      "Data columns (total 8 columns):\n",
      "InvoiceNo      397884 non-null object\n",
      "StockCode      397884 non-null object\n",
      "Description    397884 non-null object\n",
      "Quantity       397884 non-null int64\n",
      "InvoiceDate    397884 non-null object\n",
      "UnitPrice      397884 non-null float64\n",
      "CustomerID     397884 non-null float64\n",
      "Country        397884 non-null object\n",
      "dtypes: float64(2), int64(1), object(5)\n",
      "memory usage: 27.3+ MB\n"
     ]
    }
   ],
   "source": [
    "data.info()"
   ]
  },
  {
   "cell_type": "code",
   "execution_count": 0,
   "metadata": {
    "colab": {},
    "colab_type": "code",
    "id": "g_7z3aPhi7pp"
   },
   "outputs": [],
   "source": [
    "data['CustomerID'] = data['CustomerID'].astype('int64')"
   ]
  },
  {
   "cell_type": "markdown",
   "metadata": {
    "colab_type": "text",
    "id": "Fp1TuJCIaXxG"
   },
   "source": [
    "### I will add a column Spent = Quantity * UnitPrice for each user"
   ]
  },
  {
   "cell_type": "code",
   "execution_count": 0,
   "metadata": {
    "colab": {
     "base_uri": "https://localhost:8080/",
     "height": 766
    },
    "colab_type": "code",
    "id": "uMW2DSXxagJt",
    "outputId": "57c15f9d-3367-477c-c210-8a622bb9cb97"
   },
   "outputs": [
    {
     "data": {
      "text/html": [
       "<div>\n",
       "<style scoped>\n",
       "    .dataframe tbody tr th:only-of-type {\n",
       "        vertical-align: middle;\n",
       "    }\n",
       "\n",
       "    .dataframe tbody tr th {\n",
       "        vertical-align: top;\n",
       "    }\n",
       "\n",
       "    .dataframe thead th {\n",
       "        text-align: right;\n",
       "    }\n",
       "</style>\n",
       "<table border=\"1\" class=\"dataframe\">\n",
       "  <thead>\n",
       "    <tr style=\"text-align: right;\">\n",
       "      <th></th>\n",
       "      <th>InvoiceNo</th>\n",
       "      <th>StockCode</th>\n",
       "      <th>Description</th>\n",
       "      <th>Quantity</th>\n",
       "      <th>InvoiceDate</th>\n",
       "      <th>UnitPrice</th>\n",
       "      <th>CustomerID</th>\n",
       "      <th>Country</th>\n",
       "      <th>Spent</th>\n",
       "    </tr>\n",
       "  </thead>\n",
       "  <tbody>\n",
       "    <tr>\n",
       "      <th>307058</th>\n",
       "      <td>563901</td>\n",
       "      <td>23174</td>\n",
       "      <td>REGENCY SUGAR BOWL GREEN</td>\n",
       "      <td>2</td>\n",
       "      <td>8/21/11 11:05</td>\n",
       "      <td>4.15</td>\n",
       "      <td>17097</td>\n",
       "      <td>Spain</td>\n",
       "      <td>8.30</td>\n",
       "    </tr>\n",
       "    <tr>\n",
       "      <th>49541</th>\n",
       "      <td>540520</td>\n",
       "      <td>85227</td>\n",
       "      <td>SET OF 6 3D KIT CARDS FOR KIDS</td>\n",
       "      <td>6</td>\n",
       "      <td>1/9/11 12:31</td>\n",
       "      <td>0.85</td>\n",
       "      <td>17555</td>\n",
       "      <td>United Kingdom</td>\n",
       "      <td>5.10</td>\n",
       "    </tr>\n",
       "    <tr>\n",
       "      <th>411312</th>\n",
       "      <td>572215</td>\n",
       "      <td>21122</td>\n",
       "      <td>SET/10 PINK POLKADOT PARTY CANDLES</td>\n",
       "      <td>48</td>\n",
       "      <td>10/21/11 12:52</td>\n",
       "      <td>1.25</td>\n",
       "      <td>12646</td>\n",
       "      <td>USA</td>\n",
       "      <td>60.00</td>\n",
       "    </tr>\n",
       "    <tr>\n",
       "      <th>136695</th>\n",
       "      <td>547969</td>\n",
       "      <td>85049F</td>\n",
       "      <td>BABY BOOM RIBBONS</td>\n",
       "      <td>3</td>\n",
       "      <td>3/28/11 16:27</td>\n",
       "      <td>1.25</td>\n",
       "      <td>17238</td>\n",
       "      <td>United Kingdom</td>\n",
       "      <td>3.75</td>\n",
       "    </tr>\n",
       "    <tr>\n",
       "      <th>417633</th>\n",
       "      <td>572668</td>\n",
       "      <td>22150</td>\n",
       "      <td>3 STRIPEY MICE FELTCRAFT</td>\n",
       "      <td>1</td>\n",
       "      <td>10/25/11 13:07</td>\n",
       "      <td>1.95</td>\n",
       "      <td>18045</td>\n",
       "      <td>United Kingdom</td>\n",
       "      <td>1.95</td>\n",
       "    </tr>\n",
       "    <tr>\n",
       "      <th>198440</th>\n",
       "      <td>554040</td>\n",
       "      <td>22285</td>\n",
       "      <td>HANGING HEN ON NEST DECORATION</td>\n",
       "      <td>12</td>\n",
       "      <td>5/20/11 14:35</td>\n",
       "      <td>1.65</td>\n",
       "      <td>15290</td>\n",
       "      <td>United Kingdom</td>\n",
       "      <td>19.80</td>\n",
       "    </tr>\n",
       "    <tr>\n",
       "      <th>98026</th>\n",
       "      <td>544664</td>\n",
       "      <td>22698</td>\n",
       "      <td>PINK REGENCY TEACUP AND SAUCER</td>\n",
       "      <td>6</td>\n",
       "      <td>2/22/11 14:55</td>\n",
       "      <td>2.95</td>\n",
       "      <td>16045</td>\n",
       "      <td>United Kingdom</td>\n",
       "      <td>17.70</td>\n",
       "    </tr>\n",
       "    <tr>\n",
       "      <th>479279</th>\n",
       "      <td>577152</td>\n",
       "      <td>22899</td>\n",
       "      <td>CHILDREN'S APRON DOLLY GIRL</td>\n",
       "      <td>6</td>\n",
       "      <td>11/18/11 9:53</td>\n",
       "      <td>2.10</td>\n",
       "      <td>14277</td>\n",
       "      <td>France</td>\n",
       "      <td>12.60</td>\n",
       "    </tr>\n",
       "    <tr>\n",
       "      <th>125089</th>\n",
       "      <td>547019</td>\n",
       "      <td>22753</td>\n",
       "      <td>SMALL YELLOW BABUSHKA NOTEBOOK</td>\n",
       "      <td>1</td>\n",
       "      <td>3/18/11 14:54</td>\n",
       "      <td>0.85</td>\n",
       "      <td>17841</td>\n",
       "      <td>United Kingdom</td>\n",
       "      <td>0.85</td>\n",
       "    </tr>\n",
       "    <tr>\n",
       "      <th>497799</th>\n",
       "      <td>578472</td>\n",
       "      <td>84946</td>\n",
       "      <td>ANTIQUE SILVER T-LIGHT GLASS</td>\n",
       "      <td>24</td>\n",
       "      <td>11/24/11 12:40</td>\n",
       "      <td>1.25</td>\n",
       "      <td>12476</td>\n",
       "      <td>Germany</td>\n",
       "      <td>30.00</td>\n",
       "    </tr>\n",
       "  </tbody>\n",
       "</table>\n",
       "</div>"
      ],
      "text/plain": [
       "       InvoiceNo StockCode  ...         Country  Spent\n",
       "307058    563901     23174  ...           Spain   8.30\n",
       "49541     540520     85227  ...  United Kingdom   5.10\n",
       "411312    572215     21122  ...             USA  60.00\n",
       "136695    547969    85049F  ...  United Kingdom   3.75\n",
       "417633    572668     22150  ...  United Kingdom   1.95\n",
       "198440    554040     22285  ...  United Kingdom  19.80\n",
       "98026     544664     22698  ...  United Kingdom  17.70\n",
       "479279    577152     22899  ...          France  12.60\n",
       "125089    547019     22753  ...  United Kingdom   0.85\n",
       "497799    578472     84946  ...         Germany  30.00\n",
       "\n",
       "[10 rows x 9 columns]"
      ]
     },
     "execution_count": 19,
     "metadata": {
      "tags": []
     },
     "output_type": "execute_result"
    }
   ],
   "source": [
    "data[\"Spent\"] = data['Quantity'] * data['UnitPrice']\n",
    "data.sample(10)"
   ]
  },
  {
   "cell_type": "markdown",
   "metadata": {
    "colab_type": "text",
    "id": "j1e1psbhb89F"
   },
   "source": [
    "### I will split the InvoiceDate into more specific columns: Month, Date, Hour"
   ]
  },
  {
   "cell_type": "code",
   "execution_count": 0,
   "metadata": {
    "colab": {},
    "colab_type": "code",
    "id": "TTPk36tocILD"
   },
   "outputs": [],
   "source": [
    "# first change the date format\n",
    "data['InvoiceDate'] = pd.to_datetime(data['InvoiceDate'], format='%m/%d/%y %H:%M')"
   ]
  },
  {
   "cell_type": "code",
   "execution_count": 0,
   "metadata": {
    "colab": {},
    "colab_type": "code",
    "id": "cI8-1axiearR"
   },
   "outputs": [],
   "source": [
    "# add Month column\n",
    "data['Month'] = pd.DatetimeIndex(data[\"InvoiceDate\"]).month"
   ]
  },
  {
   "cell_type": "code",
   "execution_count": 0,
   "metadata": {
    "colab": {},
    "colab_type": "code",
    "id": "8NqNAmSOfH15"
   },
   "outputs": [],
   "source": [
    "# add Date column\n",
    "data[\"Day\"] = pd.DatetimeIndex(data[\"InvoiceDate\"]).day"
   ]
  },
  {
   "cell_type": "code",
   "execution_count": 0,
   "metadata": {
    "colab": {},
    "colab_type": "code",
    "id": "XGZCer-NfUYD"
   },
   "outputs": [],
   "source": [
    "# add Year column\n",
    "data[\"Year\"] = pd.DatetimeIndex(data[\"InvoiceDate\"]).year"
   ]
  },
  {
   "cell_type": "code",
   "execution_count": 0,
   "metadata": {
    "colab": {},
    "colab_type": "code",
    "id": "yLM7wAdol-si"
   },
   "outputs": [],
   "source": [
    "# add Hour column\n",
    "data[\"Hour\"] = pd.DatetimeIndex(data[\"InvoiceDate\"]).hour"
   ]
  },
  {
   "cell_type": "code",
   "execution_count": 0,
   "metadata": {
    "colab": {
     "base_uri": "https://localhost:8080/",
     "height": 850
    },
    "colab_type": "code",
    "id": "79EsC8YVfZae",
    "outputId": "824968f2-c55f-4f9e-d3e4-e48277216fe6"
   },
   "outputs": [
    {
     "data": {
      "text/html": [
       "<div>\n",
       "<style scoped>\n",
       "    .dataframe tbody tr th:only-of-type {\n",
       "        vertical-align: middle;\n",
       "    }\n",
       "\n",
       "    .dataframe tbody tr th {\n",
       "        vertical-align: top;\n",
       "    }\n",
       "\n",
       "    .dataframe thead th {\n",
       "        text-align: right;\n",
       "    }\n",
       "</style>\n",
       "<table border=\"1\" class=\"dataframe\">\n",
       "  <thead>\n",
       "    <tr style=\"text-align: right;\">\n",
       "      <th></th>\n",
       "      <th>InvoiceNo</th>\n",
       "      <th>StockCode</th>\n",
       "      <th>Description</th>\n",
       "      <th>Quantity</th>\n",
       "      <th>InvoiceDate</th>\n",
       "      <th>UnitPrice</th>\n",
       "      <th>CustomerID</th>\n",
       "      <th>Country</th>\n",
       "      <th>Spent</th>\n",
       "      <th>Month</th>\n",
       "      <th>Day</th>\n",
       "      <th>Year</th>\n",
       "      <th>Hour</th>\n",
       "    </tr>\n",
       "  </thead>\n",
       "  <tbody>\n",
       "    <tr>\n",
       "      <th>334153</th>\n",
       "      <td>566233</td>\n",
       "      <td>23274</td>\n",
       "      <td>STAR T-LIGHT HOLDER WILLIE WINKIE</td>\n",
       "      <td>12</td>\n",
       "      <td>2011-09-11 11:04:00</td>\n",
       "      <td>1.65</td>\n",
       "      <td>12635</td>\n",
       "      <td>Germany</td>\n",
       "      <td>19.80</td>\n",
       "      <td>9</td>\n",
       "      <td>11</td>\n",
       "      <td>2011</td>\n",
       "      <td>11</td>\n",
       "    </tr>\n",
       "    <tr>\n",
       "      <th>346680</th>\n",
       "      <td>567197</td>\n",
       "      <td>21181</td>\n",
       "      <td>PLEASE ONE PERSON METAL SIGN</td>\n",
       "      <td>12</td>\n",
       "      <td>2011-09-19 10:10:00</td>\n",
       "      <td>2.10</td>\n",
       "      <td>14934</td>\n",
       "      <td>Channel Islands</td>\n",
       "      <td>25.20</td>\n",
       "      <td>9</td>\n",
       "      <td>19</td>\n",
       "      <td>2011</td>\n",
       "      <td>10</td>\n",
       "    </tr>\n",
       "    <tr>\n",
       "      <th>401312</th>\n",
       "      <td>571434</td>\n",
       "      <td>21213</td>\n",
       "      <td>PACK OF 72 SKULL CAKE CASES</td>\n",
       "      <td>120</td>\n",
       "      <td>2011-10-17 13:22:00</td>\n",
       "      <td>0.42</td>\n",
       "      <td>13069</td>\n",
       "      <td>United Kingdom</td>\n",
       "      <td>50.40</td>\n",
       "      <td>10</td>\n",
       "      <td>17</td>\n",
       "      <td>2011</td>\n",
       "      <td>13</td>\n",
       "    </tr>\n",
       "    <tr>\n",
       "      <th>211604</th>\n",
       "      <td>555393</td>\n",
       "      <td>23138</td>\n",
       "      <td>SINGLE WIRE HOOK IVORY HEART</td>\n",
       "      <td>12</td>\n",
       "      <td>2011-06-02 17:00:00</td>\n",
       "      <td>1.45</td>\n",
       "      <td>14221</td>\n",
       "      <td>United Kingdom</td>\n",
       "      <td>17.40</td>\n",
       "      <td>6</td>\n",
       "      <td>2</td>\n",
       "      <td>2011</td>\n",
       "      <td>17</td>\n",
       "    </tr>\n",
       "    <tr>\n",
       "      <th>453741</th>\n",
       "      <td>575491</td>\n",
       "      <td>21903</td>\n",
       "      <td>MAN FLU METAL SIGN</td>\n",
       "      <td>5</td>\n",
       "      <td>2011-11-09 17:47:00</td>\n",
       "      <td>2.10</td>\n",
       "      <td>15531</td>\n",
       "      <td>United Kingdom</td>\n",
       "      <td>10.50</td>\n",
       "      <td>11</td>\n",
       "      <td>9</td>\n",
       "      <td>2011</td>\n",
       "      <td>17</td>\n",
       "    </tr>\n",
       "    <tr>\n",
       "      <th>337562</th>\n",
       "      <td>566450</td>\n",
       "      <td>23309</td>\n",
       "      <td>SET OF 60 I LOVE LONDON CAKE CASES</td>\n",
       "      <td>24</td>\n",
       "      <td>2011-09-12 16:12:00</td>\n",
       "      <td>0.55</td>\n",
       "      <td>15673</td>\n",
       "      <td>United Kingdom</td>\n",
       "      <td>13.20</td>\n",
       "      <td>9</td>\n",
       "      <td>12</td>\n",
       "      <td>2011</td>\n",
       "      <td>16</td>\n",
       "    </tr>\n",
       "    <tr>\n",
       "      <th>494526</th>\n",
       "      <td>578270</td>\n",
       "      <td>22671</td>\n",
       "      <td>FRENCH LAUNDRY SIGN BLUE METAL</td>\n",
       "      <td>1</td>\n",
       "      <td>2011-11-23 13:39:00</td>\n",
       "      <td>3.29</td>\n",
       "      <td>14096</td>\n",
       "      <td>United Kingdom</td>\n",
       "      <td>3.29</td>\n",
       "      <td>11</td>\n",
       "      <td>23</td>\n",
       "      <td>2011</td>\n",
       "      <td>13</td>\n",
       "    </tr>\n",
       "    <tr>\n",
       "      <th>305023</th>\n",
       "      <td>563619</td>\n",
       "      <td>37448</td>\n",
       "      <td>CERAMIC CAKE DESIGN SPOTTED MUG</td>\n",
       "      <td>12</td>\n",
       "      <td>2011-08-18 10:01:00</td>\n",
       "      <td>1.49</td>\n",
       "      <td>12839</td>\n",
       "      <td>United Kingdom</td>\n",
       "      <td>17.88</td>\n",
       "      <td>8</td>\n",
       "      <td>18</td>\n",
       "      <td>2011</td>\n",
       "      <td>10</td>\n",
       "    </tr>\n",
       "    <tr>\n",
       "      <th>489880</th>\n",
       "      <td>578029</td>\n",
       "      <td>22959</td>\n",
       "      <td>WRAP CHRISTMAS VILLAGE</td>\n",
       "      <td>25</td>\n",
       "      <td>2011-11-22 13:33:00</td>\n",
       "      <td>0.42</td>\n",
       "      <td>16985</td>\n",
       "      <td>United Kingdom</td>\n",
       "      <td>10.50</td>\n",
       "      <td>11</td>\n",
       "      <td>22</td>\n",
       "      <td>2011</td>\n",
       "      <td>13</td>\n",
       "    </tr>\n",
       "    <tr>\n",
       "      <th>150481</th>\n",
       "      <td>549439</td>\n",
       "      <td>22386</td>\n",
       "      <td>JUMBO BAG PINK POLKADOT</td>\n",
       "      <td>10</td>\n",
       "      <td>2011-04-08 12:42:00</td>\n",
       "      <td>2.08</td>\n",
       "      <td>13562</td>\n",
       "      <td>United Kingdom</td>\n",
       "      <td>20.80</td>\n",
       "      <td>4</td>\n",
       "      <td>8</td>\n",
       "      <td>2011</td>\n",
       "      <td>12</td>\n",
       "    </tr>\n",
       "  </tbody>\n",
       "</table>\n",
       "</div>"
      ],
      "text/plain": [
       "       InvoiceNo StockCode  ...  Year  Hour\n",
       "334153    566233     23274  ...  2011    11\n",
       "346680    567197     21181  ...  2011    10\n",
       "401312    571434     21213  ...  2011    13\n",
       "211604    555393     23138  ...  2011    17\n",
       "453741    575491     21903  ...  2011    17\n",
       "337562    566450     23309  ...  2011    16\n",
       "494526    578270     22671  ...  2011    13\n",
       "305023    563619     37448  ...  2011    10\n",
       "489880    578029     22959  ...  2011    13\n",
       "150481    549439     22386  ...  2011    12\n",
       "\n",
       "[10 rows x 13 columns]"
      ]
     },
     "execution_count": 25,
     "metadata": {
      "tags": []
     },
     "output_type": "execute_result"
    }
   ],
   "source": [
    "data.sample(10)"
   ]
  },
  {
   "cell_type": "markdown",
   "metadata": {
    "colab_type": "text",
    "id": "Ikd1t-v3Pm17"
   },
   "source": [
    "### Step 3 - EDA"
   ]
  },
  {
   "cell_type": "markdown",
   "metadata": {
    "colab_type": "text",
    "id": "-T3iojz1If_r"
   },
   "source": [
    "**The customer with the highest number of orders comes from the United Kingdom (UK)**"
   ]
  },
  {
   "cell_type": "code",
   "execution_count": 0,
   "metadata": {
    "colab": {
     "base_uri": "https://localhost:8080/",
     "height": 337
    },
    "colab_type": "code",
    "id": "oO1GyVXRiBUG",
    "outputId": "b615db7f-b07c-4f83-b5c0-f390f245f06a"
   },
   "outputs": [
    {
     "name": "stdout",
     "output_type": "stream",
     "text": [
      "<class 'pandas.core.frame.DataFrame'>\n",
      "Int64Index: 397884 entries, 0 to 541908\n",
      "Data columns (total 13 columns):\n",
      "InvoiceNo      397884 non-null object\n",
      "StockCode      397884 non-null object\n",
      "Description    397884 non-null object\n",
      "Quantity       397884 non-null int64\n",
      "InvoiceDate    397884 non-null datetime64[ns]\n",
      "UnitPrice      397884 non-null float64\n",
      "CustomerID     397884 non-null int64\n",
      "Country        397884 non-null object\n",
      "Spent          397884 non-null float64\n",
      "Month          397884 non-null int64\n",
      "Day            397884 non-null int64\n",
      "Year           397884 non-null int64\n",
      "Hour           397884 non-null int64\n",
      "dtypes: datetime64[ns](1), float64(2), int64(6), object(4)\n",
      "memory usage: 42.5+ MB\n"
     ]
    }
   ],
   "source": [
    "data.info()"
   ]
  },
  {
   "cell_type": "code",
   "execution_count": 0,
   "metadata": {
    "colab": {
     "base_uri": "https://localhost:8080/",
     "height": 35
    },
    "colab_type": "code",
    "id": "qIUoWtlPIhxJ",
    "outputId": "52e1b4bb-73eb-41b6-e129-7d6b2d9b0196"
   },
   "outputs": [
    {
     "data": {
      "text/plain": [
       "7847"
      ]
     },
     "execution_count": 27,
     "metadata": {
      "tags": []
     },
     "output_type": "execute_result"
    }
   ],
   "source": [
    "orders = data.groupby(by=['CustomerID','Country'], as_index=False)['InvoiceNo'].count()\n",
    "UK_customers = orders[orders[\"Country\"] == \"United Kingdom\"]\n",
    "UK_customers['InvoiceNo'].max()"
   ]
  },
  {
   "cell_type": "markdown",
   "metadata": {
    "colab_type": "text",
    "id": "9yUfXWelIiTg"
   },
   "source": [
    "**The customer with the highest money spent on purchases comes from Netherlands**"
   ]
  },
  {
   "cell_type": "code",
   "execution_count": 0,
   "metadata": {
    "colab": {
     "base_uri": "https://localhost:8080/",
     "height": 35
    },
    "colab_type": "code",
    "id": "qCN_rIThJDRj",
    "outputId": "a19da8b3-e288-4cbd-d581-2015f59e4965"
   },
   "outputs": [
    {
     "data": {
      "text/plain": [
       "2076"
      ]
     },
     "execution_count": 28,
     "metadata": {
      "tags": []
     },
     "output_type": "execute_result"
    }
   ],
   "source": [
    "spent = data.groupby(by=['CustomerID', 'Country'], as_index=False)['Spent'].count()\n",
    "Neth_customers = spent[spent[\"Country\"] == \"Netherlands\"]\n",
    "Neth_customers['Spent'].max()"
   ]
  },
  {
   "cell_type": "markdown",
   "metadata": {
    "colab_type": "text",
    "id": "UcCxS85hIwLb"
   },
   "source": [
    "**On which year had the highest sales?**"
   ]
  },
  {
   "cell_type": "code",
   "execution_count": 0,
   "metadata": {
    "colab": {},
    "colab_type": "code",
    "id": "i-7RsisUI_gc"
   },
   "outputs": [],
   "source": [
    "# I don't understand the question"
   ]
  },
  {
   "cell_type": "markdown",
   "metadata": {
    "colab_type": "text",
    "id": "W-IKvzruKHXb"
   },
   "source": [
    "**How many orders (per hour)?**"
   ]
  },
  {
   "cell_type": "code",
   "execution_count": 0,
   "metadata": {
    "colab": {
     "base_uri": "https://localhost:8080/",
     "height": 319
    },
    "colab_type": "code",
    "id": "RHS5ridWKQ4u",
    "outputId": "504bc954-b57a-4b2c-819f-f574967e04d2"
   },
   "outputs": [
    {
     "data": {
      "text/plain": [
       "[12]        3129\n",
       "[13]        2636\n",
       "[11]        2276\n",
       "[14]        2274\n",
       "[10]        2226\n",
       "[15]        2037\n",
       "[9]         1393\n",
       "[16]        1100\n",
       "[8]          555\n",
       "[17]         544\n",
       "[18]         169\n",
       "[19]         144\n",
       "[7]           29\n",
       "[20]          18\n",
       "[6]            1\n",
       "[11, 12]       1\n",
       "Name: Hour, dtype: int64"
      ]
     },
     "execution_count": 30,
     "metadata": {
      "tags": []
     },
     "output_type": "execute_result"
    }
   ],
   "source": [
    "orders_per_hour = data.groupby('InvoiceNo')['Hour'].unique().value_counts()\n",
    "orders_per_hour"
   ]
  },
  {
   "cell_type": "markdown",
   "metadata": {
    "colab_type": "text",
    "id": "dqCZUmx0KKfS"
   },
   "source": [
    "**Make a plot about number of orders per hour**"
   ]
  },
  {
   "cell_type": "code",
   "execution_count": 0,
   "metadata": {
    "colab": {
     "base_uri": "https://localhost:8080/",
     "height": 316
    },
    "colab_type": "code",
    "id": "-KPgD51AKKE6",
    "outputId": "cf499370-625f-457c-b491-f9898345ea14"
   },
   "outputs": [
    {
     "data": {
      "text/plain": [
       "<matplotlib.axes._subplots.AxesSubplot at 0x7f34d24f3b00>"
      ]
     },
     "execution_count": 31,
     "metadata": {
      "tags": []
     },
     "output_type": "execute_result"
    },
    {
     "data": {
      "image/png": "[encoded data removed]",
      "text/plain": [
       "<Figure size 432x288 with 1 Axes>"
      ]
     },
     "metadata": {
      "tags": []
     },
     "output_type": "display_data"
    }
   ],
   "source": [
    "orders_per_hour.plot(kind=\"bar\")"
   ]
  },
  {
   "cell_type": "markdown",
   "metadata": {
    "colab_type": "text",
    "id": "IFdCALXQnMbI"
   },
   "source": [
    "### My observation:\n",
    "Maybe at noon people order the most because it's their break time, so they have time to surf the Internet and do shopping"
   ]
  },
  {
   "cell_type": "markdown",
   "metadata": {
    "colab_type": "text",
    "id": "-8ZwTvS6L0vS"
   },
   "source": [
    "**How many orders (per month)?**"
   ]
  },
  {
   "cell_type": "code",
   "execution_count": 0,
   "metadata": {
    "colab": {
     "base_uri": "https://localhost:8080/",
     "height": 248
    },
    "colab_type": "code",
    "id": "NeOp_6a3L0vX",
    "outputId": "5e2ee6bd-64e3-4899-b1c3-e65b2ad9ce3d"
   },
   "outputs": [
    {
     "data": {
      "text/plain": [
       "[11]    2657\n",
       "[12]    2178\n",
       "[10]    1929\n",
       "[9]     1755\n",
       "[5]     1555\n",
       "[6]     1393\n",
       "[7]     1331\n",
       "[3]     1321\n",
       "[8]     1280\n",
       "[4]     1149\n",
       "[2]      997\n",
       "[1]      987\n",
       "Name: Month, dtype: int64"
      ]
     },
     "execution_count": 32,
     "metadata": {
      "tags": []
     },
     "output_type": "execute_result"
    }
   ],
   "source": [
    "orders_per_month = data.groupby('InvoiceNo')['Month'].unique().value_counts()\n",
    "orders_per_month"
   ]
  },
  {
   "cell_type": "markdown",
   "metadata": {
    "colab_type": "text",
    "id": "sOYrMUczL0vb"
   },
   "source": [
    "**Make a plot about number of orders per month**"
   ]
  },
  {
   "cell_type": "code",
   "execution_count": 0,
   "metadata": {
    "colab": {
     "base_uri": "https://localhost:8080/",
     "height": 297
    },
    "colab_type": "code",
    "id": "e7RJQ5MbL4cY",
    "outputId": "766e2d92-f8e3-44dc-b4f3-58e5a3adfb5b"
   },
   "outputs": [
    {
     "data": {
      "text/plain": [
       "<matplotlib.axes._subplots.AxesSubplot at 0x7f34d11ee780>"
      ]
     },
     "execution_count": 33,
     "metadata": {
      "tags": []
     },
     "output_type": "execute_result"
    },
    {
     "data": {
      "image/png": "[encoded data removed]",
      "text/plain": [
       "<Figure size 432x288 with 1 Axes>"
      ]
     },
     "metadata": {
      "tags": []
     },
     "output_type": "display_data"
    }
   ],
   "source": [
    "orders_per_month.plot(kind=\"bar\")"
   ]
  },
  {
   "cell_type": "markdown",
   "metadata": {
    "colab_type": "text",
    "id": "n83sJk64nndE"
   },
   "source": [
    "### My observation:\n",
    "At the end of the year (October, November, December), there are alot of holidays, such as Haloween, Thanksgiving, Black Friday, Christmas, New Year's Eve. So people will buy more"
   ]
  },
  {
   "cell_type": "markdown",
   "metadata": {
    "colab_type": "text",
    "id": "E3eeyQeBLd6e"
   },
   "source": [
    "**Top 10 items most sales**"
   ]
  },
  {
   "cell_type": "code",
   "execution_count": 0,
   "metadata": {
    "colab": {
     "base_uri": "https://localhost:8080/",
     "height": 35
    },
    "colab_type": "code",
    "id": "4trjB9ZjLhEv",
    "outputId": "976d5377-8628-408c-8905-69b5235888b4"
   },
   "outputs": [
    {
     "data": {
      "text/plain": [
       "2035"
      ]
     },
     "execution_count": 34,
     "metadata": {
      "tags": []
     },
     "output_type": "execute_result"
    }
   ],
   "source": [
    "items = data.groupby(by=['StockCode'], as_index=False)['InvoiceNo'].count()\n",
    "items['InvoiceNo'].max()"
   ]
  },
  {
   "cell_type": "markdown",
   "metadata": {
    "colab_type": "text",
    "id": "-dEBLw1uPm1-"
   },
   "source": [
    "**Create a histogram with the 10 countries that have the most 'Quantity' ordered except UK**"
   ]
  },
  {
   "cell_type": "code",
   "execution_count": 0,
   "metadata": {
    "colab": {
     "base_uri": "https://localhost:8080/",
     "height": 520
    },
    "colab_type": "code",
    "id": "_N-UF331Pm1-",
    "outputId": "98157848-05d4-45fd-fabd-7fd45e2512f2"
   },
   "outputs": [
    {
     "data": {
      "image/png": "[encoded data removed]",
      "text/plain": [
       "<Figure size 1080x576 with 1 Axes>"
      ]
     },
     "metadata": {
      "tags": []
     },
     "output_type": "display_data"
    }
   ],
   "source": [
    "# Your code here\n",
    "country_orders = data.groupby('Country')['InvoiceNo'].count().sort_values()\n",
    "del country_orders['United Kingdom']\n",
    "\n",
    "plt.subplots(figsize=(15,8))\n",
    "country_orders.plot('barh')\n",
    "plt.xlabel('Number of Orders')\n",
    "plt.ylabel('Country')\n",
    "plt.show()\n",
    "\n",
    "# What can you tell about this?"
   ]
  },
  {
   "cell_type": "markdown",
   "metadata": {
    "colab_type": "text",
    "id": "O2dy5B9PprLE"
   },
   "source": [
    "### My observation:\n",
    "- Europe is rich. Germany is the richest, and then France. Don't know where EIRE is so I can't say. \n",
    "- Then comes Japan, also a rich country.\n",
    "- And then Israel, a very smart country.\n",
    "- Then unspecified country, this might be added by several countries, so its total Invoice is high. Maybe.\n",
    "- And then Singapore, the richest country in the South East Asia\n",
    "- ....\n",
    "\n",
    "I think this dataset is surveyed mostly in Europe, that's why there isn't alot of information about other countries. Therefore it might not be enough to conclude anything about the behaviour of the customers.\n"
   ]
  },
  {
   "cell_type": "markdown",
   "metadata": {
    "colab_type": "text",
    "id": "MoBgPjDiwhdV"
   },
   "source": [
    "### You are awesome!!"
   ]
  }
 ],
 "metadata": {
  "colab": {
   "collapsed_sections": [],
   "name": "Copy of Assignment_3_EDA.ipynb",
   "provenance": []
  },
  "kernelspec": {
   "display_name": "Python 3",
   "language": "python",
   "name": "python3"
  },
  "language_info": {
   "codemirror_mode": {
    "name": "ipython",
    "version": 3
   },
   "file_extension": ".py",
   "mimetype": "text/x-python",
   "name": "python",
   "nbconvert_exporter": "python",
   "pygments_lexer": "ipython3",
   "version": "3.6.5"
  }
 },
 "nbformat": 4,
 "nbformat_minor": 1
}
